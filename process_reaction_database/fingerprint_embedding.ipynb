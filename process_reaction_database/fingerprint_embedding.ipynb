{
 "cells": [
  {
   "cell_type": "code",
   "execution_count": 3,
   "metadata": {},
   "outputs": [
    {
     "name": "stdout",
     "output_type": "stream",
     "text": [
      "2022.03.5\n"
     ]
    }
   ],
   "source": [
    "import rdkit\n",
    "print(rdkit.__version__)\n",
    "from rdkit import Chem\n",
    "from rdkit.Chem import AllChem\n",
    "import csv\n",
    "import pickle\n",
    "from map4 import MAP4Calculator\n",
    "import numpy as np"
   ]
  },
  {
   "attachments": {},
   "cell_type": "markdown",
   "metadata": {},
   "source": [
    "# Load products"
   ]
  },
  {
   "attachments": {},
   "cell_type": "markdown",
   "metadata": {},
   "source": [
    "## ECREACT"
   ]
  },
  {
   "cell_type": "code",
   "execution_count": 3,
   "metadata": {},
   "outputs": [
    {
     "name": "stdout",
     "output_type": "stream",
     "text": [
      "Loading bio_products_uni\n",
      "bio_products_uni 37939\n"
     ]
    }
   ],
   "source": [
    "try:\n",
    "    with open(\"./data/bio_products_uni.pkl\",\"rb\") as f:\n",
    "        bio_products_uni = pickle.load(f)\n",
    "    print('Loading bio_products_uni')\n",
    "    print('bio_products_uni',len(bio_products_uni))\n",
    "except:\n",
    "    def get_ecreact_prod():\n",
    "        bioReactions = []\n",
    "        with open('../data/ECREACT/ecreact-1.0.csv') as f:\n",
    "            reader = csv.DictReader(f)\n",
    "            for row in reader:\n",
    "                reaction = row['rxn_smiles']\n",
    "                bioReactions.append(reaction)\n",
    "        bio_reactants = []\n",
    "        bio_products = []\n",
    "        for reaction in bioReactions:\n",
    "            reactant = reaction.split(\"|\")[0]\n",
    "            product = reaction.split(\">>\")[1]\n",
    "            bio_reactants.append(reactant)\n",
    "            bio_products.append(product)\n",
    "        print('bio_products',len(bio_products))\n",
    "        bio_products_moltosmi = [Chem.MolToSmiles(Chem.MolFromSmiles(m)) for m in bio_products]\n",
    "        bio_products_uni = list(set(bio_products_moltosmi))\n",
    "        print('bio_products_uni',len(bio_products_uni))\n",
    "        return bio_products_uni\n",
    "    bio_products_uni = get_ecreact_prod()\n",
    "    with open(\"./data/bio_products_uni.pkl\", \"wb\") as f:\n",
    "        pickle.dump(bio_products_uni, f)\n"
   ]
  },
  {
   "attachments": {},
   "cell_type": "markdown",
   "metadata": {},
   "source": [
    "## USPTO"
   ]
  },
  {
   "cell_type": "code",
   "execution_count": 4,
   "metadata": {},
   "outputs": [
    {
     "name": "stdout",
     "output_type": "stream",
     "text": [
      "Loading chem_products_uni\n",
      "chem_products_uni 437821\n"
     ]
    }
   ],
   "source": [
    "try:\n",
    "    with open(\"./data/chem_products_uni.pkl\",\"rb\") as f:\n",
    "        chem_products_uni = pickle.load(f)\n",
    "    print('Loading chem_products_uni')\n",
    "    print('chem_products_uni',len(chem_products_uni))\n",
    "except:\n",
    "    def get_uspto_prod():\n",
    "        tgt_train = []\n",
    "        with open ('../data/USPTO480k/tgt-train.txt', 'r') as f:\n",
    "            tgt_train = [s for line in f.readlines() for s in line.replace(' ','').split('.')]\n",
    "        #print(len(tgt_train))\n",
    "        tgt_test = []\n",
    "        with open ('../data/USPTO480k/tgt-test.txt', 'r') as f:\n",
    "            tgt_test = [s for line in f.readlines() for s in line.replace(' ','').split('.')]\n",
    "        #print(len(tgt_test))\n",
    "        tgt_val = []\n",
    "        with open ('../data/USPTO480k/tgt-val.txt', 'r') as f:\n",
    "            tgt_val = [s for line in f.readlines() for s in line.replace(' ','').split('.')]\n",
    "        #print(len(tgt_val))\n",
    "\n",
    "        chem_products = tgt_train + tgt_test + tgt_val\n",
    "        print('chem_products',len(chem_products))\n",
    "        chem_products_moltosmi = [Chem.MolToSmiles(Chem.MolFromSmiles(m)) for m in chem_products]\n",
    "        chem_products_uni = list(set(chem_products_moltosmi))\n",
    "        print('chem_products_uni',len(chem_products_uni))\n",
    "        return chem_products_uni\n",
    "    chem_products_uni = get_uspto_prod()\n",
    "    with open(\"./data/chem_products_uni.pkl\", \"wb\") as f:\n",
    "        pickle.dump(chem_products_uni, f)"
   ]
  },
  {
   "attachments": {},
   "cell_type": "markdown",
   "metadata": {},
   "source": [
    "# MAP4 Encoding"
   ]
  },
  {
   "cell_type": "code",
   "execution_count": 10,
   "metadata": {},
   "outputs": [],
   "source": [
    "def map4_many_encoding(bio_products_smi,dim):\n",
    "    \n",
    "    MAP4 = MAP4Calculator(dimensions=dim,is_folded=True)\n",
    "    #ENC = tm.Minhash(dim)\n",
    "    bio_products_map4_smi = bio_products_smi\n",
    "    bio_products_map4_fps = MAP4.calculate_many([Chem.MolFromSmiles(mol) for mol in bio_products_map4_smi])\n",
    "    return bio_products_map4_smi, bio_products_map4_fps\n",
    "\n",
    "def map4_chem_encoding(chem_products_smi,dim):\n",
    "    MAP4 = MAP4Calculator(dimensions=dim,is_folded=True)\n",
    "    #ENC = tm.Minhash(dim)\n",
    "    chem_products_map4_fps = []\n",
    "    i = 0\n",
    "    err_n = 0\n",
    "    err_mol = []\n",
    "    chem_products_map4_smi = []\n",
    "    for mol in chem_products_smi:\n",
    "        try:\n",
    "            fp = MAP4.calculate(Chem.MolFromSmiles(mol))\n",
    "            chem_products_map4_fps.append(fp)\n",
    "            chem_products_map4_smi.append(mol)\n",
    "            i += 1\n",
    "            if i%10000 == 0:\n",
    "                print(\"Progress: {:0.2f}. Error: {}\".format(i/len(chem_products_smi),err_n), end='\\r')\n",
    "        except:\n",
    "            err_n += 1\n",
    "            err_mol.append(mol)\n",
    "            print(\"Progress: {:0.2f}. Error: {}\".format(i/len(chem_products_smi),err_n), end='\\r')\n",
    "    return chem_products_map4_smi, chem_products_map4_fps, err_mol"
   ]
  },
  {
   "attachments": {},
   "cell_type": "markdown",
   "metadata": {},
   "source": [
    "## MAP4 1024 (Remove molecules whose MAP4 fingerprint is unfeasible )"
   ]
  },
  {
   "attachments": {},
   "cell_type": "markdown",
   "metadata": {},
   "source": [
    "MAP4 bio mols encoding (~10 min) chem mols encoding (~40 min)"
   ]
  },
  {
   "cell_type": "code",
   "execution_count": 4,
   "metadata": {},
   "outputs": [
    {
     "name": "stdout",
     "output_type": "stream",
     "text": [
      "Loading bio_products_smi_cor and bio_products_map4_1024_fps\n",
      "Loading bio_products_smi_cor: 37939\n"
     ]
    }
   ],
   "source": [
    "try:\n",
    "    with open(\"./data/bio_products_smi_cor.pkl\",\"rb\") as f:\n",
    "        bio_products_smi_cor = pickle.load(f)\n",
    "    with open(\"./data/bio_products_map4_1024_fps.pkl\",\"rb\") as f:\n",
    "        bio_products_map4_1024_fps = pickle.load(f)\n",
    "    print('Loading bio_products_smi_cor and bio_products_map4_1024_fps')\n",
    "    print(f'Loading bio_products_smi_cor: {len(bio_products_smi_cor)}')\n",
    "except:\n",
    "    print('Processing bio_products_smi_cor and bio_products_map4_1024_fps')\n",
    "    bio_products_smi_cor, bio_products_map4_1024_fps = map4_many_encoding(bio_products_uni,dim=1024)\n",
    "    with open(\"./data/bio_products_smi_cor.pkl\", \"wb\") as f:\n",
    "        pickle.dump(bio_products_smi_cor, f)\n",
    "    with open(\"./data/bio_products_map4_1024_fps.pkl\", \"wb\") as f:\n",
    "        pickle.dump(bio_products_map4_1024_fps, f)\n"
   ]
  },
  {
   "cell_type": "code",
   "execution_count": 5,
   "metadata": {},
   "outputs": [
    {
     "name": "stdout",
     "output_type": "stream",
     "text": [
      "Loading chem_products_smi_cor and chem_products_map4_1024_fps\n",
      "Loading chem_products_map4_1024_fps: 437781\n"
     ]
    }
   ],
   "source": [
    "### MAP4 1024 encoding Chem\n",
    "try:\n",
    "    with open(\"./data/chem_products_smi_cor.pkl\",\"rb\") as f:\n",
    "        chem_products_smi_cor = pickle.load(f)\n",
    "    with open(\"./data/chem_products_map4_1024_fps.pkl\",\"rb\") as f:\n",
    "        chem_products_map4_1024_fps = pickle.load(f)\n",
    "    print('Loading chem_products_smi_cor and chem_products_map4_1024_fps')\n",
    "    print(f'Loading chem_products_map4_1024_fps: {len(chem_products_map4_1024_fps)}')\n",
    "except:\n",
    "    print('Processing chem_products_smi_cor and chem_products_map4_1024_fps')\n",
    "    chem_products_smi_cor, chem_products_map4_1024_fps, chem_err_mol_map4_1024 = map4_chem_encoding(chem_products_uni,dim=1024)\n",
    "    with open(\"./data/chem_products_smi_cor.pkl\", \"wb\") as f:\n",
    "        pickle.dump(chem_products_smi_cor, f)\n",
    "    with open(\"./data/chem_products_map4_1024_fps.pkl\", \"wb\") as f:\n",
    "        pickle.dump(chem_products_map4_1024_fps, f)\n",
    "    with open(\"./data/chem_err_mol_map4_1024.pkl\", \"wb\") as f:\n",
    "        pickle.dump(chem_err_mol_map4_1024, f)\n"
   ]
  },
  {
   "attachments": {},
   "cell_type": "markdown",
   "metadata": {},
   "source": [
    "## MAP4 2048"
   ]
  },
  {
   "cell_type": "code",
   "execution_count": 13,
   "metadata": {},
   "outputs": [
    {
     "name": "stdout",
     "output_type": "stream",
     "text": [
      "Processing bio_products_map4_2048_smi and bio_products_map4_2048_fps\n"
     ]
    }
   ],
   "source": [
    "try:\n",
    "    with open(\"./data/bio_products_map4_2048_fps.pkl\",\"rb\") as f:\n",
    "        bio_products_map4_2048_fps = pickle.load(f)\n",
    "    print('Loading bio_products_map4_2048_fps')\n",
    "except:\n",
    "    print('Processing bio_products_map4_2048_fps')\n",
    "    bio_products_map4_2048_smi, bio_products_map4_2048_fps = map4_many_encoding(bio_products_smi_cor,dim=2048)\n",
    "    with open(\"./data/bio_products_map4_2048_fps.pkl\", \"wb\") as f:\n",
    "        pickle.dump(bio_products_map4_2048_fps, f)"
   ]
  },
  {
   "cell_type": "code",
   "execution_count": 14,
   "metadata": {},
   "outputs": [
    {
     "name": "stdout",
     "output_type": "stream",
     "text": [
      "Processing chem_products_map4_2048_fps\n",
      "Done, saving the result\n"
     ]
    }
   ],
   "source": [
    "try:\n",
    "    with open(\"./data/chem_products_map4_2048_fps.pkl\",\"rb\") as f:\n",
    "        chem_products_map4_2048_fps = pickle.load(f)\n",
    "    print('Loading chem_products_map4_2048_fps')\n",
    "except:\n",
    "    print('Processing chem_products_map4_2048_fps')\n",
    "    chem_products_map4_2048_smi, chem_products_map4_2048_fps = map4_many_encoding(chem_products_smi_cor,dim=2048)\n",
    "    print(\"Done, saving the result\")\n",
    "    with open(\"./data/chem_products_map4_2048_fps.pkl\", \"wb\") as f:\n",
    "        pickle.dump(chem_products_map4_2048_fps, f)"
   ]
  },
  {
   "attachments": {},
   "cell_type": "markdown",
   "metadata": {},
   "source": [
    "## MAP4 4096"
   ]
  },
  {
   "cell_type": "code",
   "execution_count": 15,
   "metadata": {},
   "outputs": [
    {
     "name": "stdout",
     "output_type": "stream",
     "text": [
      "Processing bio_products_map4_4096_fps\n"
     ]
    }
   ],
   "source": [
    "try:\n",
    "    with open(\"./data/bio_products_map4_4096_fps.pkl\",\"rb\") as f:\n",
    "        bio_products_map4_4096_fps = pickle.load(f)\n",
    "    print('Loading bio_products_map4_4096_fps')\n",
    "except:\n",
    "    print('Processing bio_products_map4_4096_fps')\n",
    "    bio_products_map4_4096_smi, bio_products_map4_4096_fps = map4_many_encoding(bio_products_smi_cor,dim=4096)\n",
    "    with open(\"./data/bio_products_map4_4096_fps.pkl\", \"wb\") as f:\n",
    "        pickle.dump(bio_products_map4_4096_fps, f)"
   ]
  },
  {
   "cell_type": "code",
   "execution_count": 16,
   "metadata": {},
   "outputs": [
    {
     "name": "stdout",
     "output_type": "stream",
     "text": [
      "Processing chem_products_map4_4096_smi and chem_products_map4_4096_fps\n",
      "Done, saving the result\n"
     ]
    }
   ],
   "source": [
    "try:\n",
    "    with open(\"./data/chem_products_map4_4096_fps.pkl\",\"rb\") as f:\n",
    "        chem_products_map4_4096_fps = pickle.load(f)\n",
    "    print('Loading chem_products_map4_4096_smi and chem_products_map4_4096_fps')\n",
    "except:\n",
    "    print('Processing chem_products_map4_4096_smi and chem_products_map4_4096_fps')\n",
    "    chem_products_map4_4096_smi, chem_products_map4_4096_fps = map4_many_encoding(chem_products_smi_cor,dim=4096)\n",
    "    print(\"Done, saving the result\")\n",
    "    with open(\"./data/chem_products_map4_4096_fps.pkl\", \"wb\") as f:\n",
    "        pickle.dump(chem_products_map4_4096_fps, f)"
   ]
  },
  {
   "attachments": {},
   "cell_type": "markdown",
   "metadata": {},
   "source": [
    "# ECFP4 Encoding"
   ]
  },
  {
   "cell_type": "code",
   "execution_count": 17,
   "metadata": {},
   "outputs": [],
   "source": [
    "def ecfp4_encoding(bio_products_smi,chem_products_smi,dim):\n",
    "    bio_products_mol = [Chem.MolFromSmiles(m) for m in bio_products_smi]\n",
    "    bio_products_ecfp_fps  = [np.array(AllChem.GetMorganFingerprintAsBitVect(m, 2, nBits=dim)) for m in bio_products_mol]\n",
    "    chem_products_mol = [Chem.MolFromSmiles(m) for m in chem_products_smi]\n",
    "    chem_products_ecfp_fps  = [np.array(AllChem.GetMorganFingerprintAsBitVect(m, 2, nBits=dim)) for m in chem_products_mol]\n",
    "    return bio_products_ecfp_fps, chem_products_ecfp_fps"
   ]
  },
  {
   "attachments": {},
   "cell_type": "markdown",
   "metadata": {},
   "source": [
    "10 15 25 min"
   ]
  },
  {
   "attachments": {},
   "cell_type": "markdown",
   "metadata": {},
   "source": [
    "## ECFP4 1024"
   ]
  },
  {
   "cell_type": "code",
   "execution_count": 18,
   "metadata": {},
   "outputs": [
    {
     "name": "stdout",
     "output_type": "stream",
     "text": [
      "Processing ecfp4_1024\n"
     ]
    }
   ],
   "source": [
    "try:\n",
    "    with open(\"./data/bio_products_ecfp4_1024_fps.pkl\",\"rb\") as f:\n",
    "        bio_products_ecfp4_1024_fps = pickle.load(f)\n",
    "    with open(\"./data/chem_products_ecfp4_1024_fps.pkl\",\"rb\") as f:\n",
    "        chem_products_ecfp4_1024_fps = pickle.load(f)\n",
    "    print('Loading bio_products_ecfp4_1024_fps and chem_products_ecfp4_1024_fps')\n",
    "\n",
    "except:\n",
    "    print('Processing ecfp4_1024')\n",
    "    dim = 1024\n",
    "    bio_products_ecfp4_1024_fps, chem_products_ecfp4_1024_fps = ecfp4_encoding(bio_products_smi_cor,chem_products_smi_cor,dim)\n",
    "    with open(\"./data/bio_products_ecfp4_1024_fps.pkl\", \"wb\") as f:\n",
    "        pickle.dump(bio_products_ecfp4_1024_fps, f)\n",
    "    with open(\"./data/chem_products_ecfp4_1024_fps.pkl\", \"wb\") as f:\n",
    "        pickle.dump(chem_products_ecfp4_1024_fps, f)"
   ]
  },
  {
   "attachments": {},
   "cell_type": "markdown",
   "metadata": {},
   "source": [
    "## ECFP4 2048"
   ]
  },
  {
   "cell_type": "code",
   "execution_count": 19,
   "metadata": {},
   "outputs": [
    {
     "name": "stdout",
     "output_type": "stream",
     "text": [
      "Processing ecfp4_2048\n"
     ]
    }
   ],
   "source": [
    "try:\n",
    "    with open(\"./data/bio_products_ecfp4_2048_fps.pkl\",\"rb\") as f:\n",
    "        bio_products_ecfp4_2048_fps = pickle.load(f)\n",
    "    with open(\"./data/chem_products_ecfp4_2048_fps.pkl\",\"rb\") as f:\n",
    "        chem_products_ecfp4_2048_fps = pickle.load(f)\n",
    "    print('Loading bio_products_ecfp4_2048_fps and chem_products_ecfp4_2048_fps')\n",
    "\n",
    "except:\n",
    "    print('Processing ecfp4_2048')\n",
    "    dim=2048\n",
    "    bio_products_ecfp4_2048_fps, chem_products_ecfp4_2048_fps = ecfp4_encoding(bio_products_smi_cor,chem_products_smi_cor,dim)\n",
    "    with open(\"./data/bio_products_ecfp4_2048_fps.pkl\", \"wb\") as f:\n",
    "        pickle.dump(bio_products_ecfp4_2048_fps, f)\n",
    "    with open(\"./data/chem_products_ecfp4_2048_fps.pkl\", \"wb\") as f:\n",
    "        pickle.dump(chem_products_ecfp4_2048_fps, f)"
   ]
  },
  {
   "attachments": {},
   "cell_type": "markdown",
   "metadata": {},
   "source": [
    "## ECFP4 4096"
   ]
  },
  {
   "cell_type": "code",
   "execution_count": 20,
   "metadata": {},
   "outputs": [
    {
     "name": "stdout",
     "output_type": "stream",
     "text": [
      "Processing ecfp4_4096\n"
     ]
    }
   ],
   "source": [
    "try:\n",
    "    with open(\"./data/bio_products_ecfp4_4096_fps.pkl\",\"rb\") as f:\n",
    "        bio_products_ecfp4_4096_fps = pickle.load(f)\n",
    "    with open(\"./data/chem_products_ecfp4_4096_fps.pkl\",\"rb\") as f:\n",
    "        chem_products_ecfp4_4096_fps = pickle.load(f)\n",
    "    print('Loading bio_products_ecfp4_4096_fps and chem_products_ecfp4_4096_fps')\n",
    "\n",
    "except:\n",
    "    print('Processing ecfp4_4096')\n",
    "    dim=4096\n",
    "    bio_products_ecfp4_4096_fps, chem_products_ecfp4_4096_fps = ecfp4_encoding(bio_products_smi_cor,chem_products_smi_cor,dim)\n",
    "    with open(\"./data/bio_products_ecfp4_4096_fps.pkl\", \"wb\") as f:\n",
    "        pickle.dump(bio_products_ecfp4_4096_fps, f)\n",
    "    with open(\"./data/chem_products_ecfp4_4096_fps.pkl\", \"wb\") as f:\n",
    "        pickle.dump(chem_products_ecfp4_4096_fps, f)"
   ]
  }
 ],
 "metadata": {
  "kernelspec": {
   "display_name": "bioenv",
   "language": "python",
   "name": "python3"
  },
  "language_info": {
   "codemirror_mode": {
    "name": "ipython",
    "version": 3
   },
   "file_extension": ".py",
   "mimetype": "text/x-python",
   "name": "python",
   "nbconvert_exporter": "python",
   "pygments_lexer": "ipython3",
   "version": "3.9.12"
  },
  "orig_nbformat": 4,
  "vscode": {
   "interpreter": {
    "hash": "bf6dc6ccd029344247e1a8928e36c23213afc362da404dd384c2192a7ec20422"
   }
  }
 },
 "nbformat": 4,
 "nbformat_minor": 2
}
